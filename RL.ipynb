{
 "cells": [
  {
   "cell_type": "code",
   "execution_count": 1,
   "metadata": {},
   "outputs": [
    {
     "name": "stdout",
     "output_type": "stream",
     "text": [
      "/home/enzo/Documents/pickomino/rust_library\n"
     ]
    }
   ],
   "source": [
    "%cd /home/enzo/Documents/pickomino/rust_library"
   ]
  },
  {
   "cell_type": "code",
   "execution_count": 2,
   "metadata": {},
   "outputs": [
    {
     "name": "stdout",
     "output_type": "stream",
     "text": [
      "Collecting maturin\n",
      "  Using cached maturin-1.3.1-py3-none-manylinux_2_12_x86_64.manylinux2010_x86_64.musllinux_1_1_x86_64.whl (9.5 MB)\n",
      "Collecting tomli>=1.1.0\n",
      "  Using cached tomli-2.0.1-py3-none-any.whl (12 kB)\n",
      "Installing collected packages: tomli, maturin\n",
      "Successfully installed maturin-1.3.1 tomli-2.0.1\n",
      "Note: you may need to restart the kernel to use updated packages.\n"
     ]
    }
   ],
   "source": [
    "%pip install maturin"
   ]
  },
  {
   "cell_type": "code",
   "execution_count": 5,
   "metadata": {},
   "outputs": [
    {
     "name": "stdout",
     "output_type": "stream",
     "text": [
      "🔗 Found pyo3 bindings\n",
      "🐍 Found CPython 3.10 at /home/enzo/miniconda3/deepghost_env/bin/python3\n",
      "\u001b[0m\u001b[0m\u001b[1m\u001b[32m   Compiling\u001b[0m pyo3-build-config v0.20.0\n",
      "\u001b[K\u001b[0m\u001b[0m\u001b[1m\u001b[32m   Compiling\u001b[0m pyo3-ffi v0.20.0=====>      ] 35/43: pyo3-build-config           \n",
      "\u001b[0m\u001b[0m\u001b[1m\u001b[32m   Compiling\u001b[0m pyo3 v0.20.0\n",
      "\u001b[K\u001b[0m\u001b[0m\u001b[1m\u001b[32m   Compiling\u001b[0m rust_library v0.1.0 (/home/enzo/Documents/pickomino/rust_library)\n",
      "\u001b[K\u001b[0m\u001b[1m\u001b[33mwarning\u001b[0m\u001b[0m\u001b[1m: unused imports: `Duration`, `Instant`\u001b[0mbrary                \n",
      "\u001b[0m  \u001b[0m\u001b[0m\u001b[1m\u001b[38;5;12m--> \u001b[0m\u001b[0msrc/lib.rs:12:17\u001b[0m\n",
      "\u001b[0m   \u001b[0m\u001b[0m\u001b[1m\u001b[38;5;12m|\u001b[0m\n",
      "\u001b[0m\u001b[1m\u001b[38;5;12m12\u001b[0m\u001b[0m \u001b[0m\u001b[0m\u001b[1m\u001b[38;5;12m|\u001b[0m\u001b[0m \u001b[0m\u001b[0muse std::time::{Duration, Instant};\u001b[0m\n",
      "\u001b[0m   \u001b[0m\u001b[0m\u001b[1m\u001b[38;5;12m| \u001b[0m\u001b[0m                \u001b[0m\u001b[0m\u001b[1m\u001b[33m^^^^^^^^\u001b[0m\u001b[0m  \u001b[0m\u001b[0m\u001b[1m\u001b[33m^^^^^^^\u001b[0m\n",
      "\u001b[0m   \u001b[0m\u001b[0m\u001b[1m\u001b[38;5;12m|\u001b[0m\n",
      "\u001b[0m   \u001b[0m\u001b[0m\u001b[1m\u001b[38;5;12m= \u001b[0m\u001b[0m\u001b[1mnote\u001b[0m\u001b[0m: `#[warn(unused_imports)]` on by default\u001b[0m\n",
      "\n",
      "\u001b[K\u001b[0m\u001b[1m\u001b[33mwarning\u001b[0m\u001b[0m\u001b[1m: variable does not need to be mutable\u001b[0mibrary                \n",
      "\u001b[0m   \u001b[0m\u001b[0m\u001b[1m\u001b[38;5;12m--> \u001b[0m\u001b[0msrc/lib.rs:149:17\u001b[0m\n",
      "\u001b[0m    \u001b[0m\u001b[0m\u001b[1m\u001b[38;5;12m|\u001b[0m\n",
      "\u001b[0m\u001b[1m\u001b[38;5;12m149\u001b[0m\u001b[0m \u001b[0m\u001b[0m\u001b[1m\u001b[38;5;12m|\u001b[0m\u001b[0m \u001b[0m\u001b[0m            let mut result: usize = n*factorial(n-1, factorial_cache);\u001b[0m\n",
      "\u001b[0m    \u001b[0m\u001b[0m\u001b[1m\u001b[38;5;12m| \u001b[0m\u001b[0m                \u001b[0m\u001b[0m\u001b[1m\u001b[38;5;12m----\u001b[0m\u001b[0m\u001b[1m\u001b[33m^^^^^^\u001b[0m\n",
      "\u001b[0m    \u001b[0m\u001b[0m\u001b[1m\u001b[38;5;12m| \u001b[0m\u001b[0m                \u001b[0m\u001b[0m\u001b[1m\u001b[38;5;12m|\u001b[0m\n",
      "\u001b[0m    \u001b[0m\u001b[0m\u001b[1m\u001b[38;5;12m| \u001b[0m\u001b[0m                \u001b[0m\u001b[0m\u001b[1m\u001b[38;5;12mhelp: remove this `mut`\u001b[0m\n",
      "\u001b[0m    \u001b[0m\u001b[0m\u001b[1m\u001b[38;5;12m|\u001b[0m\n",
      "\u001b[0m    \u001b[0m\u001b[0m\u001b[1m\u001b[38;5;12m= \u001b[0m\u001b[0m\u001b[1mnote\u001b[0m\u001b[0m: `#[warn(unused_mut)]` on by default\u001b[0m\n",
      "\n",
      "\u001b[K\u001b[0m\u001b[1m\u001b[33mwarning\u001b[0m\u001b[0m\u001b[1m: unused variable: `sum`\u001b[0m 42/43: rust_library                \n",
      "\u001b[0m   \u001b[0m\u001b[0m\u001b[1m\u001b[38;5;12m--> \u001b[0m\u001b[0msrc/lib.rs:178:13\u001b[0m\n",
      "\u001b[0m    \u001b[0m\u001b[0m\u001b[1m\u001b[38;5;12m|\u001b[0m\n",
      "\u001b[0m\u001b[1m\u001b[38;5;12m178\u001b[0m\u001b[0m \u001b[0m\u001b[0m\u001b[1m\u001b[38;5;12m|\u001b[0m\u001b[0m \u001b[0m\u001b[0m        let sum: f64 = vec_coefficients.iter().sum();\u001b[0m\n",
      "\u001b[0m    \u001b[0m\u001b[0m\u001b[1m\u001b[38;5;12m| \u001b[0m\u001b[0m            \u001b[0m\u001b[0m\u001b[1m\u001b[33m^^^\u001b[0m\u001b[0m \u001b[0m\u001b[0m\u001b[1m\u001b[33mhelp: if this is intentional, prefix it with an underscore: `_sum`\u001b[0m\n",
      "\u001b[0m    \u001b[0m\u001b[0m\u001b[1m\u001b[38;5;12m|\u001b[0m\n",
      "\u001b[0m    \u001b[0m\u001b[0m\u001b[1m\u001b[38;5;12m= \u001b[0m\u001b[0m\u001b[1mnote\u001b[0m\u001b[0m: `#[warn(unused_variables)]` on by default\u001b[0m\n",
      "\n",
      "\u001b[0m\u001b[1m\u001b[33mwarning\u001b[0m\u001b[0m\u001b[1m: unused variable: `compute_reward_cache`\u001b[0m\n",
      "\u001b[0m   \u001b[0m\u001b[0m\u001b[1m\u001b[38;5;12m--> \u001b[0m\u001b[0msrc/lib.rs:185:212\u001b[0m\n",
      "\u001b[0m    \u001b[0m\u001b[0m\u001b[1m\u001b[38;5;12m|\u001b[0m\n",
      "\u001b[0m\u001b[1m\u001b[38;5;12m185\u001b[0m\u001b[0m \u001b[0m\u001b[0m\u001b[1m\u001b[38;5;12m|\u001b[0m\u001b[0m \u001b[0m\u001b[0m\u001b[1m\u001b[38;5;12m...\u001b[0m\u001b[0ming_penalty: &f64, compute_reward_cache: &mut ComputeRewardCache,\u001b[0m\n",
      "\u001b[0m    \u001b[0m\u001b[0m\u001b[1m\u001b[38;5;12m| \u001b[0m\u001b[0m                      \u001b[0m\u001b[0m\u001b[1m\u001b[33m^^^^^^^^^^^^^^^^^^^^\u001b[0m\u001b[0m \u001b[0m\u001b[0m\u001b[1m\u001b[33mhelp: if this is intentional, prefix it with an underscore: `_compute_reward_cache`\u001b[0m\n",
      "\n",
      "\u001b[K\u001b[0m\u001b[1m\u001b[33mwarning\u001b[0m\u001b[0m\u001b[1m: variable does not need to be mutable\u001b[0mibrary                \n",
      "\u001b[0m   \u001b[0m\u001b[0m\u001b[1m\u001b[38;5;12m--> \u001b[0m\u001b[0msrc/lib.rs:207:9\u001b[0m\n",
      "\u001b[0m    \u001b[0m\u001b[0m\u001b[1m\u001b[38;5;12m|\u001b[0m\n",
      "\u001b[0m\u001b[1m\u001b[38;5;12m207\u001b[0m\u001b[0m \u001b[0m\u001b[0m\u001b[1m\u001b[38;5;12m|\u001b[0m\u001b[0m \u001b[0m\u001b[0m    let mut pickomino_choice = None;\u001b[0m\n",
      "\u001b[0m    \u001b[0m\u001b[0m\u001b[1m\u001b[38;5;12m| \u001b[0m\u001b[0m        \u001b[0m\u001b[0m\u001b[1m\u001b[38;5;12m----\u001b[0m\u001b[0m\u001b[1m\u001b[33m^^^^^^^^^^^^^^^^\u001b[0m\n",
      "\u001b[0m    \u001b[0m\u001b[0m\u001b[1m\u001b[38;5;12m| \u001b[0m\u001b[0m        \u001b[0m\u001b[0m\u001b[1m\u001b[38;5;12m|\u001b[0m\n",
      "\u001b[0m    \u001b[0m\u001b[0m\u001b[1m\u001b[38;5;12m| \u001b[0m\u001b[0m        \u001b[0m\u001b[0m\u001b[1m\u001b[38;5;12mhelp: remove this `mut`\u001b[0m\n",
      "\n",
      "\u001b[K\u001b[0m\u001b[0m\u001b[1m\u001b[33mwarning\u001b[0m\u001b[1m:\u001b[0m `rust_library` (lib) generated 5 warnings (run `cargo fix --lib -p rust_library` to apply 5 suggestions)\n",
      "\u001b[0m\u001b[0m\u001b[1m\u001b[32m    Finished\u001b[0m release [optimized] target(s) in 5.79s\n",
      "📦 Built wheel for CPython 3.10 to /home/enzo/Documents/pickomino/rust_library/target/wheels/rust_library-0.1.0-cp310-cp310-manylinux_2_34_x86_64.whl\n"
     ]
    }
   ],
   "source": [
    "!maturin build --release"
   ]
  },
  {
   "cell_type": "code",
   "execution_count": 5,
   "metadata": {},
   "outputs": [
    {
     "name": "stdout",
     "output_type": "stream",
     "text": [
      "Found existing installation: rust_library 0.1.0\n",
      "Uninstalling rust_library-0.1.0:\n",
      "  Successfully uninstalled rust_library-0.1.0\n",
      "Note: you may need to restart the kernel to use updated packages.\n"
     ]
    }
   ],
   "source": [
    "%pip uninstall -y rust_library --break-system-packages"
   ]
  },
  {
   "cell_type": "code",
   "execution_count": 1,
   "metadata": {},
   "outputs": [
    {
     "name": "stdout",
     "output_type": "stream",
     "text": [
      "Defaulting to user installation because normal site-packages is not writeable\n",
      "Processing /home/enzo/Documents/pickomino/rust_library/target/wheels/rust_library-0.1.0-cp311-cp311-manylinux_2_34_x86_64.whl\n",
      "Installing collected packages: rust-library\n",
      "Successfully installed rust-library-0.1.0\n",
      "Note: you may need to restart the kernel to use updated packages.\n"
     ]
    }
   ],
   "source": [
    "%pip install /home/enzo/Documents/pickomino/rust_library/target/wheels/rust_library-0.1.0-cp311-cp311-manylinux_2_34_x86_64.whl --break-system-packages"
   ]
  },
  {
   "cell_type": "code",
   "execution_count": 2,
   "metadata": {},
   "outputs": [],
   "source": [
    "import rust_library"
   ]
  },
  {
   "cell_type": "code",
   "execution_count": 4,
   "metadata": {},
   "outputs": [],
   "source": [
    "rewards = [0. for _ in range(21)] + [1.]*4 + [2.]*4 + [3.]*4 + [4.]*4 + [0.]*4"
   ]
  },
  {
   "cell_type": "code",
   "execution_count": 5,
   "metadata": {},
   "outputs": [
    {
     "data": {
      "text/plain": [
       "0.0"
      ]
     },
     "execution_count": 5,
     "metadata": {},
     "output_type": "execute_result"
    }
   ],
   "source": [
    "rewards[37]"
   ]
  },
  {
   "cell_type": "code",
   "execution_count": 6,
   "metadata": {},
   "outputs": [],
   "source": [
    "current_score = 0\n",
    "picked_dice = [0,0,0,0,0,0]\n",
    "remaining_dice = 8\n",
    "throw_result = 0\n",
    "rewards = [0. for _ in range(21)] + [1.]*4 + [2.]*4 + [3.]*4 + [4.]*4 + [0.]*4\n",
    "leaving_penalty = 0.\n",
    "\n",
    "result = rust_library.compute_best_path_py(\n",
    "    current_score,\n",
    "    picked_dice,\n",
    "    remaining_dice,\n",
    "    throw_result,\n",
    "    rewards,\n",
    "    leaving_penalty\n",
    ")"
   ]
  },
  {
   "cell_type": "code",
   "execution_count": 12,
   "metadata": {},
   "outputs": [
    {
     "name": "stdout",
     "output_type": "stream",
     "text": [
      "(1.0007739864349956, 5, True, None)\n",
      "1.1112980203210665\n"
     ]
    }
   ],
   "source": [
    "current_score = 9\n",
    "picked_dice = [0,0,1,0,0,0]\n",
    "remaining_dice = 5\n",
    "throw = (3,1,0,1,2,0,1)\n",
    "throw_result = dict_index[throw]\n",
    "rewards = [0. for _ in range(21)] + [1.]*4 + [2.]*4 + [3.]*4 + [4.]*4 + [0.]*4\n",
    "leaving_penalty = 0.\n",
    "\n",
    "result = rust_library.compute_best_path_py(\n",
    "    current_score,\n",
    "    picked_dice,\n",
    "    remaining_dice,\n",
    "    throw_result,\n",
    "    rewards,\n",
    "    leaving_penalty\n",
    ")\n",
    "value = rust_library.position_value_py(current_score, picked_dice, remaining_dice, rewards, leaving_penalty)\n",
    "print(result)\n",
    "print(value)"
   ]
  },
  {
   "cell_type": "code",
   "execution_count": 13,
   "metadata": {},
   "outputs": [
    {
     "name": "stdout",
     "output_type": "stream",
     "text": [
      "244 µs ± 23 µs per loop (mean ± std. dev. of 7 runs, 1,000 loops each)\n"
     ]
    }
   ],
   "source": [
    "%timeit value = rust_library.position_value_py(current_score, picked_dice, remaining_dice, rewards, leaving_penalty)"
   ]
  },
  {
   "cell_type": "code",
   "execution_count": 7,
   "metadata": {},
   "outputs": [
    {
     "data": {
      "text/plain": [
       "(4.0, 5, True, None)"
      ]
     },
     "execution_count": 7,
     "metadata": {},
     "output_type": "execute_result"
    }
   ],
   "source": [
    "result"
   ]
  },
  {
   "cell_type": "code",
   "execution_count": 8,
   "metadata": {},
   "outputs": [
    {
     "name": "stdout",
     "output_type": "stream",
     "text": [
      "1.6447296740400994\n",
      "(4.0, 5, True, None)\n"
     ]
    }
   ],
   "source": [
    "value = rust_library.position_value_py(current_score, picked_dice, remaining_dice, rewards, leaving_penalty)\n",
    "print(value)\n",
    "print(result)"
   ]
  },
  {
   "cell_type": "code",
   "execution_count": 5,
   "metadata": {},
   "outputs": [
    {
     "data": {
      "text/plain": [
       "1.752055974787671"
      ]
     },
     "execution_count": 5,
     "metadata": {},
     "output_type": "execute_result"
    }
   ],
   "source": [
    "value"
   ]
  },
  {
   "cell_type": "code",
   "execution_count": 12,
   "metadata": {},
   "outputs": [
    {
     "data": {
      "text/plain": [
       "(2.0258543893747984, 100, False, None)"
      ]
     },
     "execution_count": 12,
     "metadata": {},
     "output_type": "execute_result"
    }
   ],
   "source": [
    "result"
   ]
  },
  {
   "cell_type": "code",
   "execution_count": 11,
   "metadata": {},
   "outputs": [
    {
     "name": "stdout",
     "output_type": "stream",
     "text": [
      "335 µs ± 565 ns per loop (mean ± std. dev. of 7 runs, 1,000 loops each)\n"
     ]
    }
   ],
   "source": [
    "%timeit result = rust_library.compute_best_path_py( current_score, picked_dice, remaining_dice, throw_result, rewards, leaving_penalty)"
   ]
  },
  {
   "cell_type": "code",
   "execution_count": 8,
   "metadata": {},
   "outputs": [],
   "source": [
    "import torch\n",
    "import torch.nn as nn\n",
    "import numpy as np\n",
    "import gymnasium as gym\n",
    "from gymnasium.spaces import Box, Dict, Discrete, MultiBinary, MultiDiscrete\n",
    "import pygame\n",
    "from gymnasium import spaces"
   ]
  },
  {
   "cell_type": "markdown",
   "metadata": {},
   "source": [
    "On doit d'abord créer l'espace d'états."
   ]
  },
  {
   "cell_type": "code",
   "execution_count": 9,
   "metadata": {},
   "outputs": [],
   "source": [
    "class Policy_Net(nn.Module):\n",
    "    def __init__(self, input_dimension, hidden_dimensions, out_dimension=12):\n",
    "        super.__init__()\n",
    "        self.embedding = torch.nn.Linear(input_dimension, hidden_dimensions[0])\n",
    "        module_list = [self.embedding\n",
    "        ]\n",
    "        for i in range(len(hidden_dimensions) - 1):\n",
    "            module_list.append(nn.ReLU())\n",
    "            module_list.append(nn.Linear(hidden_dimensions[i], hidden_dimensions[i+1]))\n",
    "        # 6 choices of dice + whether to continue = 12 possibilities among which to choose\n",
    "        module_list.append(nn.ReLU())\n",
    "        module_list.append(nn.Linear(hidden_dimensions[-1], out_dimension))\n",
    "        module_list.append(nn.Softmax(out_dimension))\n",
    "        self.sequence = nn.Sequential(*module_list)\n",
    "    \n",
    "    def forward(self, x):\n",
    "        return self.sequence(x)\n"
   ]
  },
  {
   "cell_type": "code",
   "execution_count": 9,
   "metadata": {},
   "outputs": [],
   "source": [
    "from scipy.special import binom\n",
    "def bn(u,v):\n",
    "    return int(binom(u,v))\n",
    "list_points = [bn(i,5) for i in range(13,4, -1)]\n",
    "list_intervals = [0]\n",
    "for i in range(len(list_points)):\n",
    "    list_intervals.append(list_intervals[-1] + list_points[i])\n",
    "def index_partition():\n",
    "    \"\"\"Via la hockey stick identity, on construit l'ensemble des jetés de dés.\"\"\"\n",
    "    dict_index = {}\n",
    "    for i_0 in range(9):\n",
    "        for i_1 in range(9-i_0):\n",
    "            for i_2 in range(9-i_0-i_1):\n",
    "                for i_3 in range(9-i_0-i_1-i_2):\n",
    "                    for i_4 in range(9-i_0-i_1-i_2-i_3):\n",
    "                        for i_5 in range(9-i_0-i_1-i_2-i_3-i_4):\n",
    "                            i_6 = 8-i_0-i_1-i_2-i_3-i_4-i_5\n",
    "                            dict_index[((i_0,i_1,i_2,i_3,i_4,i_5,i_6))] = len(dict_index)\n",
    "    return dict_index\n",
    "\n",
    "dict_index = index_partition()\n",
    "dict_number = {v: k for k, v in dict_index.items()}\n",
    "list_numbers = list(dict_number.values())\n",
    "list_throws = [x[1:] for x in list_numbers]"
   ]
  },
  {
   "cell_type": "code",
   "execution_count": 2,
   "metadata": {},
   "outputs": [
    {
     "data": {
      "text/plain": [
       "[0, 1287, 2079, 2541, 2793, 2919, 2975, 2996, 3002, 3003]"
      ]
     },
     "execution_count": 2,
     "metadata": {},
     "output_type": "execute_result"
    }
   ],
   "source": [
    "list_intervals"
   ]
  },
  {
   "cell_type": "code",
   "execution_count": 7,
   "metadata": {},
   "outputs": [
    {
     "data": {
      "text/plain": [
       "(4, 0, 0, 0, 0, 0, 4)"
      ]
     },
     "execution_count": 7,
     "metadata": {},
     "output_type": "execute_result"
    }
   ],
   "source": [
    "list_numbers[2793]"
   ]
  },
  {
   "cell_type": "code",
   "execution_count": 5,
   "metadata": {},
   "outputs": [
    {
     "data": {
      "text/plain": [
       "925"
      ]
     },
     "execution_count": 5,
     "metadata": {},
     "output_type": "execute_result"
    }
   ],
   "source": [
    "dict_index[(0,2,1,0,3,1,1)]"
   ]
  },
  {
   "cell_type": "code",
   "execution_count": 16,
   "metadata": {},
   "outputs": [],
   "source": [
    "d = Discrete(41)"
   ]
  },
  {
   "cell_type": "code",
   "execution_count": 34,
   "metadata": {},
   "outputs": [
    {
     "data": {
      "text/plain": [
       "(36,)"
      ]
     },
     "execution_count": 34,
     "metadata": {},
     "output_type": "execute_result"
    }
   ],
   "source": [
    "np.array([0]*20+[1]*4+[2]*4+[3]*4+[4]*4).shape"
   ]
  },
  {
   "cell_type": "code",
   "execution_count": null,
   "metadata": {},
   "outputs": [],
   "source": [
    "class PickominoEnv(gym.Env):\n",
    "    def __init__(self, value_size=41,\n",
    "                 dice_picked_size=6,\n",
    "                 dice_remaining_size=9,\n",
    "                 throw_size=3003,\n",
    "                 pickomino_states_dim=16,\n",
    "                 rewards=np.array([0.]*21+[1.]*4+[2.]*4+[3.]*4+[4.]*4 + [0.]*4)):\n",
    "        \n",
    "\n",
    "        \"\"\"The player is trying to maximize player_total,\n",
    "        which will determine whether he wins at the end of the game.\"\"\"\n",
    "        self.state_space = Dict({\"value\": Discrete(41),\n",
    "                    \"dice_picked\": MultiBinary(6),\n",
    "                    \"dice_remaining\": Discrete(9),\n",
    "                    \"throw\": Discrete(3003),\n",
    "                    \"pickomino_states\": Box(-1,2,16, dtype=np.int), # 2: hidden, 1: belongs to adversary, 0: not picked, -1: belongs to me, \n",
    "                    \"rewards\": Box(0,4,41),\n",
    "                    \"adversary_total\": Discrete(41),\n",
    "                    \"player_total\": Discrete(41),\n",
    "            })\n",
    "        self.current_state = {\"value\": np.int32(0),\n",
    "                              \"dice_picked\": np.array[0,0,0,0,0,0],\n",
    "                              \"dice_remaining\": np.int32(8),\n",
    "                              \"throw\": 0,\n",
    "                              \"pickomino_states\": np.array([0]*16),\n",
    "                              \"rewards\": np.array([0]*20+[1]*4+[2]*4+[3]*4+[4]*4 + [0]*4),\n",
    "                              \"adversary_total\": np.int32(0),\n",
    "                              \"player_total\": np.int32(0),}\n",
    "        self.actions = Dict({\"choose_dice\": Discrete(6),\n",
    "                             \"stop_playing\": MultiBinary(1),\n",
    "        }\n",
    "        )\n",
    "        self.big_penalty = -1000 # Penality in case we choose a choice that makes no sense\n",
    "    \n",
    "    def _create_reward_adversary(self,alpha,beta):\n",
    "        index_owned_by_adversary = -1\n",
    "        index_owned_by_me = -2\n",
    "        for index, value in enumerate(self.current_state[\"pickomino_states\"]):\n",
    "            if value == 1:\n",
    "                index_owned_by_adversary = index\n",
    "            elif value == -1:\n",
    "                index_owned_by_me = index\n",
    "        c = alpha*self.current_state[\"rewards\"][index_owned_by_adversary]#alpha*number of worms on the tile owned by adversary\n",
    "        rewards_adversary = []\n",
    "        for i in range(41):\n",
    "            if i <= 20:\n",
    "                rewards_adversary.append(-c)\n",
    "            if self.current_state[\"pickomino_states\"][i] == 2:\n",
    "                rewards_adversary.append(max(rewards_adversary))\n",
    "            elif self.current_state[\"pickomino_states\"][i] == 1:\n",
    "                rewards_adversary.append(max(rewards_adversary))\n",
    "            elif self.current_state[\"pickomino_states\"][i] == 0:\n",
    "                rewards_adversary.append(max(max(rewards_adversary), self.current_state[\"rewards\"][i]))\n",
    "            elif self.current_state[\"pickomino_states\"][i] == -1:\n",
    "                rewards_adversary.append(-2*beta*self.current_state[\"rewards\"][i])\n",
    "        return rewards_adversary\n",
    "    def _simulate_adversary(self, alpha, beta):\n",
    "        \"\"\"The adversary implements the best strategy as implemented in Rust.\n",
    "        We need to give it the appropriate reward, give random draws, and compute\n",
    "        its choice for each draw. The final state is the state in which it has 0 dice.\n",
    "        \n",
    "        \n",
    "        Several things have to be updated at the end: \n",
    "        - the states of the pickominos\n",
    "        - the total of the adversary\n",
    "        - the total of the player\n",
    "        \"\"\"\n",
    "        current_score = 0\n",
    "        picked_dice = [0,0,0,0,0,0]\n",
    "        remaining_dice = 8\n",
    "        interval_start = 8-remaining_dice\n",
    "        throw_result = np.random.randint(list_intervals[interval_start], list_intervals[interval_start+1])\n",
    "\n",
    "        leaving_penalty = 0.\n",
    "        rewards_adversary = self._create_reward_adversary(alpha, beta)\n",
    "        continue_playing = True\n",
    "\n",
    "        while continue_playing:\n",
    "            result = rust_library.compute_best_path_py(\n",
    "                current_score,\n",
    "                picked_dice,\n",
    "                remaining_dice,\n",
    "                throw_result,\n",
    "                rewards,\n",
    "                leaving_penalty\n",
    "            )\n",
    "            (max_expected_reward, dice_choice, throw_again, pickomino_choice) = result\n",
    "    def _get_obs(self):\n",
    "        dice_remaining = self.current_state[\"dice_remaining\"]\n",
    "        low = list_intervals[8-dice_remaining]\n",
    "        high = list_intervals[8-dice_remaining+1]\n",
    "        throw = np.random.randint(low, high)\n",
    "        self.current_state[\"throw\"] = throw\n",
    "        return None\n",
    "\n",
    "    def _update_space(self, new_value, new_dice_picked, new_dice_remaining, new_throw, new_pickomino_states):\n",
    "        self.current_state = {\"value\": new_value,\n",
    "                              \"dice_picked\": new_dice_picked,\n",
    "                              \"dice_remaining\": new_dice_remaining,\n",
    "                              \"throw\": new_throw,\n",
    "                              \"pickomino_states\": new_pickomino_states}\n",
    "    def reset(self, seed=111, options=None):\n",
    "        # We need the following line to seed self.np_random\n",
    "        super().reset(seed=seed)\n",
    "\n",
    "        # Choose the agent's location uniformly at random\n",
    "        self._agent_location = self.np_random.integers(0, self.size, size=2, dtype=int)\n",
    "\n",
    "        # We will sample the target's location randomly until it does not coincide with the agent's location\n",
    "        self._target_location = self._agent_location\n",
    "        while np.array_equal(self._target_location, self._agent_location):\n",
    "            self._target_location = self.np_random.integers(\n",
    "                0, self.size, size=2, dtype=int\n",
    "            )\n",
    "\n",
    "        observation = self._get_obs()\n",
    "        info = self._get_info()\n",
    "\n",
    "        if self.render_mode == \"human\":\n",
    "            self._render_frame()\n",
    "\n",
    "        return observation, info\n",
    "    def step(self, action):\n",
    "        # We have to compute what happens when we take a certain action in a certain state\n",
    "        # 1. We throw the dice at the beginning.\n",
    "        self._get_obs() # Updates the throw\n",
    "        # 2. We now have to pick a dice and choose whether or not to throw again\n",
    "        terminated = False\n",
    "        reward = 0\n",
    "        state_tensor = \n",
    "        throw_again, number_chosen = self.policy(state_tensor)\n",
    "        throw_values = list_throws[self.current_state[\"throw\"]]\n",
    "        if self.current_state[\"throw_values\"][number_chosen] == 0 or self.current_state[\"dice_picked\"][number_chosen]!=0:\n",
    "            reward = self.big_penalty\n",
    "            terminated = True\n",
    "            info = f\"Terminated with {reward=}, {self.current_state}\"\n",
    "        else:\n",
    "            number_of_chosen_dice = self.current_state[\"throw\"][number_chosen]\n",
    "            new_value = max(number_chosen + 1, 5)*number_of_chosen_dice\n",
    "            new_dice_picked = self.current_state[\"dice_picked\"]\n",
    "            new_dice_picked[number_chosen] = 1\n",
    "            new_dice_remaining = self.current_state[\"dice_remaining\"] - number_of_chosen_dice\n",
    "            new_throw = self.current_state[\"throw\"]\n",
    "            new_pickomino_states = self.current_state[\"pickomino_states\"]\n",
    "            self._update_space(new_value, new_dice_picked)\n",
    "            info = f\"current_state: {self.current_state}\"\n",
    "            if new_dice_remaining == 0 or throw_again == 0:\n",
    "                # We attribute the reward and terminate the game\n",
    "                if self.current_state[\"dice_picked\"][5]! = 0 #On a au moins un pickomino\n",
    "                    reward = \n",
    "        observation = self.current_state\n",
    "        truncated = False\n",
    "        return observation, reward, terminated, truncated, info"
   ]
  },
  {
   "cell_type": "markdown",
   "metadata": {},
   "source": [
    "On peut essayer un pre-training à l'aide des trajectoires optimales calculées pour la partie I"
   ]
  }
 ],
 "metadata": {
  "kernelspec": {
   "display_name": "Python 3",
   "language": "python",
   "name": "python3"
  },
  "language_info": {
   "codemirror_mode": {
    "name": "ipython",
    "version": 3
   },
   "file_extension": ".py",
   "mimetype": "text/x-python",
   "name": "python",
   "nbconvert_exporter": "python",
   "pygments_lexer": "ipython3",
   "version": "3.10.11"
  }
 },
 "nbformat": 4,
 "nbformat_minor": 2
}
